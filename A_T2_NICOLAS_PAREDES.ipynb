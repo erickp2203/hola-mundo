{
  "nbformat": 4,
  "nbformat_minor": 0,
  "metadata": {
    "colab": {
      "provenance": [],
      "authorship_tag": "ABX9TyPHCMaY3B/zxUoMdNkciMUK",
      "include_colab_link": true
    },
    "kernelspec": {
      "name": "python3",
      "display_name": "Python 3"
    },
    "language_info": {
      "name": "python"
    }
  },
  "cells": [
    {
      "cell_type": "markdown",
      "metadata": {
        "id": "view-in-github",
        "colab_type": "text"
      },
      "source": [
        "<a href=\"https://colab.research.google.com/github/erickp2203/hola-mundo/blob/main/A_T2_NICOLAS_PAREDES.ipynb\" target=\"_parent\"><img src=\"https://colab.research.google.com/assets/colab-badge.svg\" alt=\"Open In Colab\"/></a>"
      ]
    },
    {
      "cell_type": "code",
      "execution_count": 3,
      "metadata": {
        "colab": {
          "base_uri": "https://localhost:8080/"
        },
        "id": "0XmR38D1phb8",
        "outputId": "ca278354-ca69-4cb6-e11a-d138c14ef5be"
      },
      "outputs": [
        {
          "output_type": "stream",
          "name": "stdout",
          "text": [
            "HOLA MUNDO\n"
          ]
        }
      ],
      "source": [
        "print(\"HOLA MUNDO\")\n"
      ]
    },
    {
      "cell_type": "code",
      "source": [
        "numero1 = int(input(\"ingrese un numero\"))\n",
        "numero2 = int(input(\"ingrese un numero\"))\n",
        "\n",
        "print (numero1 + numero2)"
      ],
      "metadata": {
        "colab": {
          "base_uri": "https://localhost:8080/"
        },
        "id": "AQu-_SKPq5tY",
        "outputId": "8306f8c3-58fc-45bf-8b89-d8d365215eba"
      },
      "execution_count": 4,
      "outputs": [
        {
          "output_type": "stream",
          "name": "stdout",
          "text": [
            "ingrese un numero5\n",
            "ingrese un numero3\n",
            "8\n"
          ]
        }
      ]
    },
    {
      "cell_type": "code",
      "source": [
        "num1 = int(input(\"ingrese un numero\"))\n",
        "\n",
        "if num1 % 2 == 0:\n",
        "  print(\"es par\")\n",
        "else:\n",
        "  print(\"es impar\")"
      ],
      "metadata": {
        "colab": {
          "base_uri": "https://localhost:8080/"
        },
        "id": "J6T5Jc0Jq52O",
        "outputId": "f02a14e0-dd59-4036-c822-fe388ba3dd8b"
      },
      "execution_count": 5,
      "outputs": [
        {
          "output_type": "stream",
          "name": "stdout",
          "text": [
            "ingrese un numero6\n",
            "es par\n"
          ]
        }
      ]
    },
    {
      "cell_type": "code",
      "source": [
        "nume1 = int(input(\"ingrese un numero\"))\n",
        "nume2 = int(input(\"ingrese un numero\"))\n",
        "\n",
        "print(\"que operacion desea realizar:\\n1.suma\\n2.restar\\n3.multiplicar\\n4.dividir\")\n",
        "resp= input(\"ingrese el numero\")\n",
        "if resp == \"1\":\n",
        "  print(nume1 + nume2)\n",
        "elif resp == \"2\":\n",
        "  print(nume1 - nume2)\n",
        "elif resp == \"3\":\n",
        "  print(nume1 * nume2)\n",
        "elif resp == \"4\":\n",
        "  print(nume1 / nume2)"
      ],
      "metadata": {
        "colab": {
          "base_uri": "https://localhost:8080/"
        },
        "id": "WIJibSR0rd8u",
        "outputId": "32f1adc1-fd01-41a7-eb32-fe4d18c12d45"
      },
      "execution_count": 11,
      "outputs": [
        {
          "output_type": "stream",
          "name": "stdout",
          "text": [
            "ingrese un numero3\n",
            "ingrese un numero2\n",
            "que operacion desea realizar:\n",
            "1.suma\n",
            "2.restar\n",
            "3.multiplicar\n",
            "4.dividir\n",
            "ingrese el numero3\n",
            "6\n"
          ]
        }
      ]
    },
    {
      "cell_type": "code",
      "source": [
        "numeros1 = int(input(\"ingrese un numero\"))\n",
        "numeros2 = int(input(\"ingrese un numero\"))\n",
        "numeros3 = int(input(\"ingrese un numero\"))\n",
        "\n",
        "resp = max(numeros1,numeros2,numeros3)\n",
        "\n",
        "print(resp)\n"
      ],
      "metadata": {
        "colab": {
          "base_uri": "https://localhost:8080/"
        },
        "id": "CxN7Syw7reEm",
        "outputId": "ffe3e18e-be41-4a95-c9dd-dd862ba9d87f"
      },
      "execution_count": 12,
      "outputs": [
        {
          "output_type": "stream",
          "name": "stdout",
          "text": [
            "ingrese un numero3\n",
            "ingrese un numero5\n",
            "ingrese un numero7\n",
            "7\n"
          ]
        }
      ]
    },
    {
      "cell_type": "code",
      "source": [
        "import math\n",
        "radio = int(input(\"ingrese el radio\"))\n",
        "\n",
        "area = math.pi * (radio**2)\n",
        "\n",
        "print (area)\n"
      ],
      "metadata": {
        "colab": {
          "base_uri": "https://localhost:8080/"
        },
        "id": "A5Lw1vzRt9ws",
        "outputId": "7d6d22d8-e0fb-4444-cbc2-4ded9488784a"
      },
      "execution_count": 13,
      "outputs": [
        {
          "output_type": "stream",
          "name": "stdout",
          "text": [
            "ingrese el radio3\n",
            "28.274333882308138\n"
          ]
        }
      ]
    },
    {
      "cell_type": "code",
      "source": [
        "celsius = int(input(\"ingrese el el grado en celsius\"))\n",
        "\n",
        "farenheit = (celsius * 9/5) + 32\n",
        "\n",
        "print(farenheit)"
      ],
      "metadata": {
        "colab": {
          "base_uri": "https://localhost:8080/"
        },
        "id": "nXjd-rCCreHt",
        "outputId": "50e44836-918b-4967-c426-4556da6e1336"
      },
      "execution_count": 21,
      "outputs": [
        {
          "output_type": "stream",
          "name": "stdout",
          "text": [
            "ingrese el el grado en celsius0\n",
            "32.0\n"
          ]
        }
      ]
    },
    {
      "cell_type": "code",
      "source": [
        "for vuelta in range(10,-1,-1):\n",
        "  print(vuelta)"
      ],
      "metadata": {
        "colab": {
          "base_uri": "https://localhost:8080/"
        },
        "id": "RC8gncySreKu",
        "outputId": "10fe3132-69da-4e3b-9ca3-b6111e705594"
      },
      "execution_count": 20,
      "outputs": [
        {
          "output_type": "stream",
          "name": "stdout",
          "text": [
            "10\n",
            "9\n",
            "8\n",
            "7\n",
            "6\n",
            "5\n",
            "4\n",
            "3\n",
            "2\n",
            "1\n",
            "0\n"
          ]
        }
      ]
    },
    {
      "cell_type": "code",
      "source": [
        "numero = int(input(\"Introduce el número del que quieres ver la tabla de multiplicar: \"))\n",
        "\n",
        "for i in range(1, 11):\n",
        "  print(f\"{numero} x {i} = {numero * i}\")\n"
      ],
      "metadata": {
        "colab": {
          "base_uri": "https://localhost:8080/"
        },
        "id": "Gojy-zr8reN2",
        "outputId": "b369d8ad-e842-4ea6-fe29-9172bbba6ce9"
      },
      "execution_count": 22,
      "outputs": [
        {
          "output_type": "stream",
          "name": "stdout",
          "text": [
            "Introduce el número del que quieres ver la tabla de multiplicar: 5\n",
            "5 x 1 = 5\n",
            "5 x 2 = 10\n",
            "5 x 3 = 15\n",
            "5 x 4 = 20\n",
            "5 x 5 = 25\n",
            "5 x 6 = 30\n",
            "5 x 7 = 35\n",
            "5 x 8 = 40\n",
            "5 x 9 = 45\n",
            "5 x 10 = 50\n"
          ]
        }
      ]
    },
    {
      "cell_type": "code",
      "source": [
        "numero = int(input(\"Introduce un número: \"))\n",
        "\n",
        "if numero <= 1:\n",
        "  print(f\"{numero} no es un número primo.\")\n",
        "else:\n",
        "  es_primo = True\n",
        "  for i in range(2, int(numero**0.5) + 1):\n",
        "    if numero % i == 0:\n",
        "      es_primo = False\n",
        "      break\n",
        "  if es_primo:\n",
        "    print(f\"{numero} es un número primo.\")\n",
        "  else:\n",
        "    print(f\"{numero} no es un número primo.\")\n"
      ],
      "metadata": {
        "colab": {
          "base_uri": "https://localhost:8080/"
        },
        "id": "B7nMCOeQwEkt",
        "outputId": "a3a60e72-4083-4a02-fc9f-7110cf5b90f5"
      },
      "execution_count": 23,
      "outputs": [
        {
          "output_type": "stream",
          "name": "stdout",
          "text": [
            "Introduce un número: 11\n",
            "11 es un número primo.\n"
          ]
        }
      ]
    },
    {
      "cell_type": "code",
      "source": [
        "num = int(input(\"Enter a number: \"))\n",
        "\n",
        "sum = 0\n",
        "\n",
        "for i in range(1, num + 1):\n",
        "  sum = sum + i\n",
        "\n",
        "print(\"La suma de todos los numeros naturales hasta\", num, \"es\", sum)"
      ],
      "metadata": {
        "colab": {
          "base_uri": "https://localhost:8080/"
        },
        "id": "Ur30o-UfwfHJ",
        "outputId": "9df378a6-a8cf-46db-9c53-7c55d6cb47df"
      },
      "execution_count": 26,
      "outputs": [
        {
          "output_type": "stream",
          "name": "stdout",
          "text": [
            "Enter a number: 5\n",
            "La suma de todos los numeros naturales hasta 5 es 15\n"
          ]
        }
      ]
    },
    {
      "cell_type": "code",
      "source": [
        "cadena = input(\"Introduce una cadena: \")\n",
        "\n",
        "cadena_invertida = cadena[::-1]\n",
        "\n",
        "print(\"La cadena invertida es:\", cadena_invertida)"
      ],
      "metadata": {
        "colab": {
          "base_uri": "https://localhost:8080/"
        },
        "id": "XqM6xdkYreQV",
        "outputId": "3379512f-256f-4cae-bacf-967970a1c3ad"
      },
      "execution_count": 27,
      "outputs": [
        {
          "output_type": "stream",
          "name": "stdout",
          "text": [
            "Introduce una cadena: hola\n",
            "La cadena invertida es: aloh\n"
          ]
        }
      ]
    },
    {
      "cell_type": "code",
      "source": [
        "cadena = input(\"Introduce una cadena: \")\n",
        "\n",
        "vocales = 0\n",
        "\n",
        "for caracter in cadena:\n",
        "  if caracter in \"aeiouAEIOU\":\n",
        "    vocales += 1\n",
        "\n",
        "print(f\"La cadena '{cadena}' contiene {vocales} vocales.\")"
      ],
      "metadata": {
        "colab": {
          "base_uri": "https://localhost:8080/"
        },
        "id": "4icYWRJWreSu",
        "outputId": "5dd2ce51-f85b-450d-e754-786de0a5293f"
      },
      "execution_count": 28,
      "outputs": [
        {
          "output_type": "stream",
          "name": "stdout",
          "text": [
            "Introduce una cadena: cadena\n",
            "La cadena 'cadena' contiene 3 vocales.\n"
          ]
        }
      ]
    },
    {
      "cell_type": "code",
      "source": [
        "def is_palindrome(string):\n",
        "  string = string.lower().replace(\" \", \"\")\n",
        "  return string == string[::-1]\n",
        "\n",
        "user_input = input(\"ingrese el texto: \")\n",
        "\n",
        "if is_palindrome(user_input):\n",
        "  print(f\"{user_input} es un palindromo.\")\n",
        "else:\n",
        "  print(f\"{user_input} no es un palindromo.\")"
      ],
      "metadata": {
        "colab": {
          "base_uri": "https://localhost:8080/"
        },
        "id": "WF7f72AdwrO6",
        "outputId": "39315b50-0287-4e7e-b2df-d8eb513bdb42"
      },
      "execution_count": 30,
      "outputs": [
        {
          "output_type": "stream",
          "name": "stdout",
          "text": [
            "Enter a string: oso\n",
            "oso is a palindrome.\n"
          ]
        }
      ]
    },
    {
      "cell_type": "code",
      "source": [
        "numero = int(input(\"Introduce el número del que quieres calcular el factorial: \"))\n",
        "\n",
        "factorial = 1\n",
        "\n",
        "for i in range(1, numero + 1):\n",
        "  factorial *= i\n",
        "\n",
        "print(f\"El factorial de {numero} es {factorial}\")"
      ],
      "metadata": {
        "colab": {
          "base_uri": "https://localhost:8080/"
        },
        "id": "qBx7Zc68wrX5",
        "outputId": "79cf737b-94a4-4379-c90c-8b4efd02a86a"
      },
      "execution_count": 33,
      "outputs": [
        {
          "output_type": "stream",
          "name": "stdout",
          "text": [
            "Introduce el número del que quieres calcular el factorial: 3\n",
            "El factorial de 3 es 6\n"
          ]
        }
      ]
    },
    {
      "cell_type": "code",
      "source": [
        "import random\n",
        "\n",
        "for i in range(5):\n",
        "  num = random.randint(1, 100)\n",
        "  print(num)"
      ],
      "metadata": {
        "colab": {
          "base_uri": "https://localhost:8080/"
        },
        "id": "BYQjG9Orwrd6",
        "outputId": "bfba5f8e-6e7e-49e2-dd7f-1523063f6359"
      },
      "execution_count": 45,
      "outputs": [
        {
          "output_type": "stream",
          "name": "stdout",
          "text": [
            "99\n",
            "10\n",
            "18\n",
            "47\n",
            "57\n"
          ]
        }
      ]
    },
    {
      "cell_type": "code",
      "source": [],
      "metadata": {
        "id": "2OYCU_0LwriE"
      },
      "execution_count": null,
      "outputs": []
    },
    {
      "cell_type": "code",
      "source": [
        "peso = float(input(\"Introduce tu peso en kilogramos: \"))\n",
        "altura = float(input(\"Introduce tu altura en metros: \"))\n",
        "\n",
        "imc = peso / (altura ** 2)\n",
        "\n",
        "print(f\"Tu índice de masa corporal es {imc:.2f}\")\n",
        "\n",
        "if imc < 18.5:\n",
        "  print(\"Tienes bajo peso.\")\n",
        "elif imc >= 18.5 and imc < 25:\n",
        "  print(\"Tienes peso normal.\")\n",
        "elif imc >= 25 and imc < 30:\n",
        "  print(\"Tienes sobrepeso.\")\n",
        "else:\n",
        "  print(\"Tienes obesidad.\")\n"
      ],
      "metadata": {
        "colab": {
          "base_uri": "https://localhost:8080/"
        },
        "id": "qrGlF4XKwrmB",
        "outputId": "ccbafd92-a3d7-4dce-94f6-8635ce8adf54"
      },
      "execution_count": 46,
      "outputs": [
        {
          "output_type": "stream",
          "name": "stdout",
          "text": [
            "Introduce tu peso en kilogramos: 5\n",
            "Introduce tu altura en metros: 5\n",
            "Tu índice de masa corporal es 0.20\n",
            "Tienes bajo peso.\n"
          ]
        }
      ]
    }
  ]
}