{
  "nbformat": 4,
  "nbformat_minor": 0,
  "metadata": {
    "colab": {
      "provenance": [],
      "authorship_tag": "ABX9TyPBrCKzse9V20GS0z+vG2WK",
      "include_colab_link": true
    },
    "kernelspec": {
      "name": "python3",
      "display_name": "Python 3"
    },
    "language_info": {
      "name": "python"
    }
  },
  "cells": [
    {
      "cell_type": "markdown",
      "metadata": {
        "id": "view-in-github",
        "colab_type": "text"
      },
      "source": [
        "<a href=\"https://colab.research.google.com/github/erickp2203/hola-mundo/blob/main/A_T2_PAREDES_ERICK.ipynb\" target=\"_parent\"><img src=\"https://colab.research.google.com/assets/colab-badge.svg\" alt=\"Open In Colab\"/></a>"
      ]
    },
    {
      "cell_type": "markdown",
      "source": [
        "# **TRABAJO 2**\n",
        "## **TECNOLOGIA DE LA INFORMACION Y COMUNICACION**\n",
        "### HERRAMIENTAS COLABORATIVAS EN LINEA\n",
        "---"
      ],
      "metadata": {
        "id": "hOMTC46y0iRo"
      }
    },
    {
      "cell_type": "code",
      "execution_count": null,
      "metadata": {
        "colab": {
          "base_uri": "https://localhost:8080/"
        },
        "id": "0XmR38D1phb8",
        "outputId": "b54a1b72-bc3a-43fb-acab-a47d59b31c89"
      },
      "outputs": [
        {
          "output_type": "stream",
          "name": "stdout",
          "text": [
            "HOLA MUNDO\n"
          ]
        }
      ],
      "source": [
        "print(\"HOLA MUNDO\")\n"
      ]
    },
    {
      "cell_type": "code",
      "source": [
        "numero1 = int(input(\"ingrese un numero \")) #hacemos que el usuario ingrese el dato\n",
        "numero2 = int(input(\"ingrese un numero \")) #hacemos que el usuario ingrese el dato\n",
        "\n",
        "print (numero1 + numero2) #Se imprime suumando los dos numeros ingresados"
      ],
      "metadata": {
        "colab": {
          "base_uri": "https://localhost:8080/"
        },
        "id": "AQu-_SKPq5tY",
        "outputId": "2a21f2c3-5a02-4545-9c1b-8e54bbd0267f"
      },
      "execution_count": null,
      "outputs": [
        {
          "output_type": "stream",
          "name": "stdout",
          "text": [
            "ingrese un numero 5\n",
            "ingrese un numero 6\n",
            "11\n"
          ]
        }
      ]
    },
    {
      "cell_type": "code",
      "source": [
        "num1 = int(input(\"ingrese un numero \")) #hacemos que el usuario ingrese el dato\n",
        "\n",
        "if num1 % 2 == 0: #se pone la condicion de que si el numero ingresado al hacer modulo 2 tiene residuo 0 sea par\n",
        "  print(\"es par\")\n",
        "else:             # y aqui si no lo es\n",
        "  print(\"es impar\")"
      ],
      "metadata": {
        "colab": {
          "base_uri": "https://localhost:8080/"
        },
        "id": "J6T5Jc0Jq52O",
        "outputId": "50bf84c9-0949-4f5d-fcd4-567e6ce15fd9"
      },
      "execution_count": null,
      "outputs": [
        {
          "output_type": "stream",
          "name": "stdout",
          "text": [
            "ingrese un numero 6\n",
            "es par\n"
          ]
        }
      ]
    },
    {
      "cell_type": "code",
      "source": [
        "nume1 = int(input(\"ingrese un numero \")) #hacemos que el usuario ingrese el dato\n",
        "nume2 = int(input(\"ingrese un numero \")) #hacemos que el usuario ingrese el dato\n",
        "\n",
        "print(\"que operacion desea realizar:\\n1.suma\\n2.restar\\n3.multiplicar\\n4.dividir\") #se imprime con el \\n para dar un espacio o un enter entre cada linea\n",
        "resp= input(\"ingrese el numero \") #hacemos que el usuario ingrese la opcion que quiera hacer\n",
        "if resp == \"1\":\n",
        "  print(nume1 + nume2) #imprimimos la operacion segun la opcion escogida\n",
        "elif resp == \"2\":\n",
        "  print(nume1 - nume2) #imprimimos la operacion segun la opcion escogida\n",
        "elif resp == \"3\":\n",
        "  print(nume1 * nume2) #imprimimos la operacion segun la opcion escogida\n",
        "elif resp == \"4\":\n",
        "  print(nume1 / nume2) #imprimimos la operacion segun la opcion escogida"
      ],
      "metadata": {
        "colab": {
          "base_uri": "https://localhost:8080/"
        },
        "id": "WIJibSR0rd8u",
        "outputId": "10960ffa-6018-4dfa-f7d1-b7fe5bb664a8"
      },
      "execution_count": null,
      "outputs": [
        {
          "output_type": "stream",
          "name": "stdout",
          "text": [
            "ingrese un numero 6\n",
            "ingrese un numero 1\n",
            "que operacion desea realizar:\n",
            "1.suma\n",
            "2.restar\n",
            "3.multiplicar\n",
            "4.dividir\n",
            "ingrese el numero 4\n",
            "6.0\n"
          ]
        }
      ]
    },
    {
      "cell_type": "code",
      "source": [
        "numeros1 = int(input(\"ingrese un numero \")) #hacemos que el usuario ingrese el dato\n",
        "numeros2 = int(input(\"ingrese un numero \")) #hacemos que el usuario ingrese el dato\n",
        "numeros3 = int(input(\"ingrese un numero \")) #hacemos que el usuario ingrese el dato\n",
        "\n",
        "resp = max(numeros1,numeros2,numeros3) #la funcion max() encuentra el maximo entre lo que esta dentro del parentesis\n",
        "\n",
        "print(resp)\n"
      ],
      "metadata": {
        "colab": {
          "base_uri": "https://localhost:8080/"
        },
        "id": "CxN7Syw7reEm",
        "outputId": "fd1daf85-0926-4bcb-8cbc-a3e713a4a9f6"
      },
      "execution_count": null,
      "outputs": [
        {
          "output_type": "stream",
          "name": "stdout",
          "text": [
            "ingrese un numero 3\n",
            "ingrese un numero 7\n",
            "ingrese un numero 5\n",
            "7\n"
          ]
        }
      ]
    },
    {
      "cell_type": "code",
      "source": [
        "import math #al utilizar \"import\" traemos una libreria en este caso math\n",
        "radio = int(input(\"ingrese el radio \")) #hacemos que el usuario ingrese el dato\n",
        "\n",
        "area = math.pi * (radio**2) #de la libreria math importamos el valor exacto de pi con math.pi\n",
        "\n",
        "print (area)\n"
      ],
      "metadata": {
        "colab": {
          "base_uri": "https://localhost:8080/"
        },
        "id": "A5Lw1vzRt9ws",
        "outputId": "262a9374-3dc6-4080-cc3d-6f77a154f38e"
      },
      "execution_count": null,
      "outputs": [
        {
          "output_type": "stream",
          "name": "stdout",
          "text": [
            "ingrese el radio 13\n",
            "530.929158456675\n"
          ]
        }
      ]
    },
    {
      "cell_type": "code",
      "source": [
        "celsius = int(input(\"ingrese el el grado en celsius \")) #hacemos que el usuario ingrese el dato\n",
        "\n",
        "farenheit = (celsius * 9/5) + 32 #se ingrese la formula para transformar de celsius a farenheit\n",
        "\n",
        "print(farenheit)"
      ],
      "metadata": {
        "colab": {
          "base_uri": "https://localhost:8080/"
        },
        "id": "nXjd-rCCreHt",
        "outputId": "beb7af67-fdda-462d-aa3b-bb249a9be5ed"
      },
      "execution_count": null,
      "outputs": [
        {
          "output_type": "stream",
          "name": "stdout",
          "text": [
            "ingrese el el grado en celsius 0\n",
            "32.0\n"
          ]
        }
      ]
    },
    {
      "cell_type": "code",
      "source": [
        "for vuelta in range(10,-1,-1): #se hace un rnago de 10 a -1 y se pone,-1 para que el rango vaya en reversa\n",
        "  print(vuelta)"
      ],
      "metadata": {
        "colab": {
          "base_uri": "https://localhost:8080/"
        },
        "id": "RC8gncySreKu",
        "outputId": "2ec78714-b942-41dc-ffb8-b02e91802ed4"
      },
      "execution_count": null,
      "outputs": [
        {
          "output_type": "stream",
          "name": "stdout",
          "text": [
            "10\n",
            "9\n",
            "8\n",
            "7\n",
            "6\n",
            "5\n",
            "4\n",
            "3\n",
            "2\n",
            "1\n",
            "0\n"
          ]
        }
      ]
    },
    {
      "cell_type": "code",
      "source": [
        "numero = int(input(\"Introduce el número del que quieres ver la tabla de multiplicar: \")) #hacemos que el usuario ingrese el dato\n",
        "\n",
        "for i in range(1, 11): #se hace un rango para multiplicar del 1 al 10\n",
        "  print(f\"{numero} x {i} = {numero * i}\") #se imprime con la resolucion del numero ingresado * numero en el que este el rango.\n"
      ],
      "metadata": {
        "colab": {
          "base_uri": "https://localhost:8080/"
        },
        "id": "Gojy-zr8reN2",
        "outputId": "a5c8cbc1-3d61-4641-a290-c74e219a57e6"
      },
      "execution_count": null,
      "outputs": [
        {
          "output_type": "stream",
          "name": "stdout",
          "text": [
            "Introduce el número del que quieres ver la tabla de multiplicar: 5\n",
            "5 x 1 = 5\n",
            "5 x 2 = 10\n",
            "5 x 3 = 15\n",
            "5 x 4 = 20\n",
            "5 x 5 = 25\n",
            "5 x 6 = 30\n",
            "5 x 7 = 35\n",
            "5 x 8 = 40\n",
            "5 x 9 = 45\n",
            "5 x 10 = 50\n"
          ]
        }
      ]
    },
    {
      "cell_type": "code",
      "source": [
        "numero = int(input(\"Introduce un número: \"))#hacemos que el usuario ingrese el dato\n",
        "\n",
        "if numero <= 1:#condicion porque cualquier valor < 1 no es primo\n",
        "  print(f\"{numero} no es un número primo.\")\n",
        "else:\n",
        "  es_primo = True #al no cumplir la anterior condicion va a ser verdadera\n",
        "  for i in range(2, int(numero**0.5) + 1): #se crea un rango desde 2 hasta la raiz cuadradada del numero ingresado + 1\n",
        "    if numero % i == 0:                    #se debe calcular hasta valores menores que la raiz cuadrada para mejorar la eficiencia del programa\n",
        "      es_primo = False                     #ya que los numeros mayores a la raiz cuadrados no me sirven de mucho\n",
        "      break                                #por ejemplo la raiz cuadrada de 25 es 5 al ser 25 divisor de 5 no es primo y no me sirve buscar numeros mas alla de 5\n",
        "  if es_primo:\n",
        "    print(f\"{numero} es un número primo.\")\n",
        "  else:\n",
        "    print(f\"{numero} no es un número primo.\")\n"
      ],
      "metadata": {
        "colab": {
          "base_uri": "https://localhost:8080/"
        },
        "id": "B7nMCOeQwEkt",
        "outputId": "c90ac5a3-91fb-4daf-ddc5-efdcf656bc6a"
      },
      "execution_count": null,
      "outputs": [
        {
          "output_type": "stream",
          "name": "stdout",
          "text": [
            "Introduce un número: 15\n",
            "15 no es un número primo.\n"
          ]
        }
      ]
    },
    {
      "cell_type": "code",
      "source": [
        "num = int(input(\"ingrese un numero: \")) #hacemos que el usuario ingrese el dato\n",
        "\n",
        "sum = 0 #creamos una variable igualada a 0\n",
        "\n",
        "for i in range(1, num + 1): #creamos un rango de 1 hasta el numero ingresado sumandole 1\n",
        "  sum = sum + i          # y sumamos a la variable el valor del sum mas el del rango en el que este y guardamos en sum con +=\n",
        "\n",
        "print(\"La suma de todos los numeros naturales hasta\", num, \"es\", sum)"
      ],
      "metadata": {
        "colab": {
          "base_uri": "https://localhost:8080/"
        },
        "id": "Ur30o-UfwfHJ",
        "outputId": "9e2a8472-fee0-4491-a664-fd37e0fe7beb"
      },
      "execution_count": null,
      "outputs": [
        {
          "output_type": "stream",
          "name": "stdout",
          "text": [
            "ingrese un numero: 5\n",
            "La suma de todos los numeros naturales hasta 5 es 15\n"
          ]
        }
      ]
    },
    {
      "cell_type": "code",
      "source": [
        "cadena = input(\"Introduce una cadena: \") #hacemos que el usuario ingrese la cadena\n",
        "\n",
        "cadena_invertida = cadena[::-1] #una cardena se invierte el sentido con [::-1]\n",
        "\n",
        "print(\"La cadena invertida es:\", cadena_invertida)"
      ],
      "metadata": {
        "colab": {
          "base_uri": "https://localhost:8080/"
        },
        "id": "XqM6xdkYreQV",
        "outputId": "e3339adb-0381-47ef-f7fe-1b33ca1cbd81"
      },
      "execution_count": null,
      "outputs": [
        {
          "output_type": "stream",
          "name": "stdout",
          "text": [
            "Introduce una cadena: hola\n",
            "La cadena invertida es: aloh\n"
          ]
        }
      ]
    },
    {
      "cell_type": "code",
      "source": [
        "cadena = input(\"Introduce una cadena: \") #hacemos que el usuario ingrese la cadena\n",
        "\n",
        "vocales = 0 #creamos una variable igualada a 0\n",
        "\n",
        "for caracter in cadena:    #busco el caracter en la cedena ingresada\n",
        "  if caracter in \"aeiouAEIOU\": #ingreso como caracter a buscar las vocales en minusculas y mayusculas\n",
        "    vocales += 1    #si cumple con lo anterior sumo a las vocales +1\n",
        "\n",
        "print(f\"La cadena '{cadena}' contiene {vocales} vocales.\")"
      ],
      "metadata": {
        "colab": {
          "base_uri": "https://localhost:8080/"
        },
        "id": "4icYWRJWreSu",
        "outputId": "a7403b54-006f-4c94-ba02-200aef89dc5d"
      },
      "execution_count": null,
      "outputs": [
        {
          "output_type": "stream",
          "name": "stdout",
          "text": [
            "Introduce una cadena: abecedario\n",
            "La cadena 'abecedario' contiene 6 vocales.\n"
          ]
        }
      ]
    },
    {
      "cell_type": "code",
      "source": [
        "def palindromo(string): #definimos una funcion llamada palindromo\n",
        "  string = string.lower().replace(\" \", \"\") #transformamos la cadena ingresada a minusculas con .lower y con .replace quitamos el espacio si es que hay en la cadena\n",
        "  return string == string[::-1] #revierto la cadena con [::-1]\n",
        "\n",
        "palabra = input(\"ingrese el texto: \") #hacemos que el usuario ingrese la cadena\n",
        "\n",
        "if palindromo(palabra): #ingreso la condicion que si la palabra esta en el palindromo haga lo siguiente\n",
        "  print(f\"{palabra} es un palindromo.\")\n",
        "else:                   # y lo contrario si no lo esta\n",
        "  print(f\"{palabra} no es un palindromo.\")\n"
      ],
      "metadata": {
        "colab": {
          "base_uri": "https://localhost:8080/"
        },
        "id": "WF7f72AdwrO6",
        "outputId": "5b1eae1f-5a61-44ab-fe8e-e200cb86bb91"
      },
      "execution_count": null,
      "outputs": [
        {
          "output_type": "stream",
          "name": "stdout",
          "text": [
            "ingrese el texto: faro\n",
            "faro no es un palindromo.\n"
          ]
        }
      ]
    },
    {
      "cell_type": "code",
      "source": [
        "numero = int(input(\"Introduce el número del que quieres calcular el factorial: \")) #hacemos que el usuario ingrese el dato\n",
        "\n",
        "factorial = 1 #creamos una variable igualada a 1\n",
        "\n",
        "for i in range(1, numero + 1): #creamos un rango de 1 hasta el numero ingresado sumandole 1\n",
        "  factorial *= i    # y multiplicamos por el valor de i a la variable con +=\n",
        "\n",
        "print(f\"El factorial de {numero} es {factorial}\")"
      ],
      "metadata": {
        "colab": {
          "base_uri": "https://localhost:8080/"
        },
        "id": "qBx7Zc68wrX5",
        "outputId": "c64aadb0-b635-44de-c925-6556c706d88a"
      },
      "execution_count": null,
      "outputs": [
        {
          "output_type": "stream",
          "name": "stdout",
          "text": [
            "Introduce el número del que quieres calcular el factorial: 5\n",
            "El factorial de 5 es 120\n"
          ]
        }
      ]
    },
    {
      "cell_type": "code",
      "source": [
        "import random #al utilizar \"import\" traemos una libreria en este caso random\n",
        "\n",
        "for i in range(5):\n",
        "  num = random.randint(1, 100) #de la libreria random importamos el valor randoms con random.randit\n",
        "  print(num)"
      ],
      "metadata": {
        "colab": {
          "base_uri": "https://localhost:8080/"
        },
        "id": "BYQjG9Orwrd6",
        "outputId": "33cbc1a8-569f-4f0d-8ead-879a87058281"
      },
      "execution_count": null,
      "outputs": [
        {
          "output_type": "stream",
          "name": "stdout",
          "text": [
            "36\n",
            "36\n",
            "83\n",
            "35\n",
            "34\n"
          ]
        }
      ]
    },
    {
      "cell_type": "code",
      "source": [
        "peso = float(input(\"Introduce tu peso en kilogramos: \")) #hacemos que el usuario ingrese el dato\n",
        "altura = float(input(\"Introduce tu altura en metros: \")) #hacemos que el usuario ingrese el dato\n",
        "\n",
        "imc = peso / (altura ** 2) #se calcula el IMC con su formula\n",
        "\n",
        "print(f\"Tu índice de masa corporal es {imc:.2f}\") #imprimimos el valor de la imc con dos decimales con [:.2f]\n",
        "\n",
        "if imc < 18.5: #aqui solo definimos si tiene bajo peso, peso normal, sobrepeso u obesidad con los valores dispuestos\n",
        "  print(\"Tienes bajo peso.\")\n",
        "elif imc >= 18.5 and imc < 25:\n",
        "  print(\"Tienes peso normal.\")\n",
        "elif imc >= 25 and imc < 30:\n",
        "  print(\"Tienes sobrepeso.\")\n",
        "else:\n",
        "  print(\"Tienes obesidad.\")\n"
      ],
      "metadata": {
        "colab": {
          "base_uri": "https://localhost:8080/"
        },
        "id": "qrGlF4XKwrmB",
        "outputId": "ed868a62-adc2-4c37-c773-b088ec98445d"
      },
      "execution_count": null,
      "outputs": [
        {
          "output_type": "stream",
          "name": "stdout",
          "text": [
            "Introduce tu peso en kilogramos: 5\n",
            "Introduce tu altura en metros: 4\n",
            "Tu índice de masa corporal es 0.31\n",
            "Tienes bajo peso.\n"
          ]
        }
      ]
    }
  ]
}